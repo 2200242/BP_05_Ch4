{
  "nbformat": 4,
  "nbformat_minor": 0,
  "metadata": {
    "colab": {
      "provenance": [],
      "authorship_tag": "ABX9TyPnlixeNjayR3j9jErh6Dz4",
      "include_colab_link": true
    },
    "kernelspec": {
      "name": "python3",
      "display_name": "Python 3"
    },
    "language_info": {
      "name": "python"
    }
  },
  "cells": [
    {
      "cell_type": "markdown",
      "metadata": {
        "id": "view-in-github",
        "colab_type": "text"
      },
      "source": [
        "<a href=\"https://colab.research.google.com/github/2200242/BP_05_Ch4/blob/main/BP_05_Ch4.ipynb\" target=\"_parent\"><img src=\"https://colab.research.google.com/assets/colab-badge.svg\" alt=\"Open In Colab\"/></a>"
      ]
    },
    {
      "cell_type": "code",
      "execution_count": null,
      "metadata": {
        "id": "JSyRjw_UXNh7"
      },
      "outputs": [],
      "source": [
        "print('나는' + str(12) + '개의 사과를 먹었다')"
      ]
    },
    {
      "cell_type": "code",
      "source": [
        "print('apple + 'grape')\n",
        "print('apple' * 3)"
      ],
      "metadata": {
        "colab": {
          "base_uri": "https://localhost:8080/",
          "height": 174
        },
        "id": "tkRWQAbYcF5R",
        "outputId": "7185b1dd-ee11-4c2c-f758-0758bd0da124"
      },
      "execution_count": 1,
      "outputs": [
        {
          "output_type": "error",
          "ename": "NameError",
          "evalue": "ignored",
          "traceback": [
            "\u001b[0;31m---------------------------------------------------------------------------\u001b[0m",
            "\u001b[0;31mNameError\u001b[0m                                 Traceback (most recent call last)",
            "\u001b[0;32m<ipython-input-1-4e2a21198003>\u001b[0m in \u001b[0;36m<module>\u001b[0;34m\u001b[0m\n\u001b[0;32m----> 1\u001b[0;31m \u001b[0mapplegrape\u001b[0m\u001b[0;34m\u001b[0m\u001b[0;34m\u001b[0m\u001b[0m\n\u001b[0m",
            "\u001b[0;31mNameError\u001b[0m: name 'applegrape' is not defined"
          ]
        }
      ]
    },
    {
      "cell_type": "code",
      "source": [
        "str = input(\"문자열을 입력하시오:\")\n",
        "s = str[0:2] + str[-2:]\n",
        "\n",
        "print(s)"
      ],
      "metadata": {
        "id": "VqSU8pDScPii"
      },
      "execution_count": null,
      "outputs": []
    },
    {
      "cell_type": "code",
      "source": [
        "s = input(\"문자열을 입력하시오:\")\n",
        "s += \"하는 중\"\n",
        "print(s)"
      ],
      "metadata": {
        "id": "qKbr9FP7duu5"
      },
      "execution_count": null,
      "outputs": []
    },
    {
      "cell_type": "code",
      "source": [
        "str=input(\"기호를 입력하시오:\")\n",
        "word = input(\"중간에 삽입할 문자열을 입력하시오:\")\n",
        "s = str[:1] + word + str[1:]\n",
        "\n",
        "print(s)"
      ],
      "metadata": {
        "id": "bcXRLp6Wd5XJ"
      },
      "execution_count": null,
      "outputs": []
    },
    {
      "cell_type": "code",
      "source": [
        "lista = [1, 2, 3, 4]\n",
        "sum = 0\n",
        "sum = lista[0] + lista[1] + lista[2] + lista[3]\n",
        "print(\"리스트 =\", lista)\n",
        "print(\"리스트 숫자들의 합 =\", sum)"
      ],
      "metadata": {
        "id": "MragEHCffJJN"
      },
      "execution_count": null,
      "outputs": []
    },
    {
      "cell_type": "code",
      "source": [
        "import turtle\n",
        "t = turtle.Turtle()\n",
        "t.shape(\"turtle\")\n",
        "\n",
        "lista = []"
      ],
      "metadata": {
        "id": "LmhjjAgdgjQo"
      },
      "execution_count": null,
      "outputs": []
    },
    {
      "cell_type": "code",
      "source": [
        "color = input(\"색상 #1을 입력하시오:\")\n",
        "lista.append(color)\n",
        "color = input(\"색상 #2을 입력하시오:\")\n",
        "lista.append(color)\n",
        "color = input(\"색상 #3을 입력하시오:\")\n",
        "lista.append(color)\n",
        "\n",
        "t.fillcolor(lista[0])\n",
        "t.begin_fill()\n",
        "t.circle(50)\n",
        "t.end_fill()\n",
        "\n",
        "t.up()\n",
        "t.goto(100,0)\n",
        "t.down()\n",
        "t.fillcolor(lista[1])\n",
        "t.begin_fill()\n",
        "t.circle(50)\n",
        "t.end_fill()\n",
        "\n",
        "t.up()\n",
        "t.goto(200,0)\n",
        "t.down()\n",
        "t.fillcolor(lista[2])\n",
        "t.begin_fill()\n",
        "t.circle(50)\n",
        "t.end_fill()\n",
        "t._screen.exitonclick()"
      ],
      "metadata": {
        "id": "Saoruvseg1Rj"
      },
      "execution_count": null,
      "outputs": []
    },
    {
      "cell_type": "code",
      "source": [
        "from turtle import\n",
        "shape(\"turtle\")\n",
        "\n",
        "lista = []; color = input(\"색상 #1을 입력하시오:\")\n",
        "lista.append(color); color = input(\"색상 #2을 입력하시오:\")\n",
        "lista.append(color); color = input(\"색상 #3을 입력하시오:\")\n",
        "lista.append(color)\n",
        "\n",
        "fillcolor(lista[0]); begin_fill(); circle(50); end_fill()\n",
        "\n",
        "up(); goto(100,0); down(); fillcolor(lista[1]); begin_fill(); circle(50); end_fill()\n",
        "\n",
        "up(); goto(200,0); down(); fillcolor(lista[2]); begin_fill(); circle(50); end_fill()\n",
        "write(\"닫으려면 화면 클릭\"); exitonclick()"
      ],
      "metadata": {
        "id": "wepVupk2jIhD"
      },
      "execution_count": null,
      "outputs": []
    },
    {
      "cell_type": "code",
      "source": [
        "import turtle\n",
        "t = turtle.Turtle()\n",
        "t.shape(\"turtle\")\n",
        "\n",
        "lista = []\n",
        "lista.append(int(input(\"x1:\")))\n",
        "lista.append(int(input(\"y1:\")))\n",
        "lista.append(int(input(\"x2:\")))\n",
        "lista.append(int(input(\"y2:\")))\n",
        "lista.append(int(input(\"x3:\")))\n",
        "lista.append(int(input(\"y3:\")))\n",
        "\n",
        "t.goto(lista[0], lista[1])\n",
        "t.goto(lista[2], lista[3])\n",
        "t.goto(lista[4], lista[5])\n",
        "t._screen.exitonclick()"
      ],
      "metadata": {
        "id": "8frwvBlskueS"
      },
      "execution_count": null,
      "outputs": []
    },
    {
      "cell_type": "code",
      "source": [
        "from turtle import\n",
        "shape(\"turtle\")\n",
        "\n",
        "lista = []\n",
        "lista.append(int(input(\"x1:\")))\n",
        "lista.append(int(input(\"y1:\")))\n",
        "lista.append(int(input(\"x2:\")))\n",
        "lista.append(int(input(\"y2:\")))\n",
        "lista.append(int(input(\"x3:\")))\n",
        "lista.append(int(input(\"y3:\")))\n",
        "\n",
        "goto(lista[0], lista[1])\n",
        "goto(lista[2], lista[3])\n",
        "goto(lista[4], lista[5])\n",
        "write(\"닫으려면 화면 클릭\")\n",
        "exitonclick()"
      ],
      "metadata": {
        "id": "nOqUT01-ls2L"
      },
      "execution_count": null,
      "outputs": []
    }
  ]
}